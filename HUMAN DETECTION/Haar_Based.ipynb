{
 "cells": [
  {
   "cell_type": "code",
   "execution_count": 1,
   "metadata": {},
   "outputs": [],
   "source": [
    "import numpy as np\n",
    "import cv2\n",
    "body_classifier = cv2.CascadeClassifier('haarcascade_fullbody.xml')\n",
    "#cap = cv2.VideoCapture(0)\n",
    "cap = cv2.VideoCapture('vtest.avi')\n",
    "#cap.set(3,640) # set Width\n",
    "#cap.set(4,480) # set Height\n",
    "while cap.isOpened():\n",
    "    ret, frame = cap.read()\n",
    "    #img = cv2.flip(img, -1)\n",
    "    gray = cv2.cvtColor(frame, cv2.COLOR_BGR2GRAY)\n",
    "    '''faces = faceCascade.detectMultiScale(\n",
    "        gray,     \n",
    "        scaleFactor=1.2,\n",
    "        minNeighbors=5,     \n",
    "        minSize=(20, 20)\n",
    "    )'''\n",
    "    bodies = body_classifier.detectMultiScale(gray, 1.2, 3)\n",
    "    \n",
    "    for (x,y,w,h) in bodies:\n",
    "        cv2.rectangle(frame,(x,y),(x+w,y+h),(0,255,255),2)\n",
    "        '''\n",
    "    if len(bodies)>0:\n",
    "        l=[]\n",
    "        lf=[]\n",
    "        l.append(x)\n",
    "        l.append(y)\n",
    "        lf.append(l)\n",
    "        for i in range(len(lf)):\n",
    "            for j in range(i+1,len(lf)):\n",
    "                d=math.sqrt( ((lf[j][1]-lf[i][1])**2)+((lf[j][0]-lf[i][0])**2) )\n",
    "                print(d)'''\n",
    "\n",
    "    cv2.imshow('Pedestrians',frame)\n",
    "    if cv2.waitKey(1) == 13:\n",
    "     # press 'Enter' to quit\n",
    "        break\n",
    "cap.release()\n",
    "cv2.destroyAllWindows()"
   ]
  },
  {
   "cell_type": "code",
   "execution_count": null,
   "metadata": {},
   "outputs": [],
   "source": []
  },
  {
   "cell_type": "code",
   "execution_count": null,
   "metadata": {},
   "outputs": [],
   "source": []
  }
 ],
 "metadata": {
  "kernelspec": {
   "display_name": "Python 3",
   "language": "python",
   "name": "python3"
  },
  "language_info": {
   "codemirror_mode": {
    "name": "ipython",
    "version": 3
   },
   "file_extension": ".py",
   "mimetype": "text/x-python",
   "name": "python",
   "nbconvert_exporter": "python",
   "pygments_lexer": "ipython3",
   "version": "3.6.8"
  }
 },
 "nbformat": 4,
 "nbformat_minor": 2
}
